{
 "cells": [
  {
   "cell_type": "code",
   "execution_count": 346,
   "metadata": {
    "scrolled": true
   },
   "outputs": [],
   "source": [
    "import matplotlib.pyplot as plt\n",
    "import pandas as pd\n",
    "import numpy as np\n",
    "import random\n",
    "import math\n",
    "from sklearn.preprocessing import StandardScaler\n",
    "from sklearn.preprocessing import MinMaxScaler\n",
    "from sklearn.decomposition import PCA\n",
    "\n",
    "train_csv = pd.read_csv('train.csv') #read CSV檔 file\n",
    "test_csv = pd.read_csv('test.csv')\n",
    "\n",
    "train_df = pd.DataFrame(train_csv) #to panda dataFrame\n",
    "test_df = pd.DataFrame(test_csv)\n",
    "\n",
    "\n",
    "#train_df = train_df.drop('Street',1)\n",
    "train_df = train_df.drop('Alley',1)\n",
    "#train_df = train_df.drop('LandContour',1)\n",
    "#train_df = train_df.drop('LandSlope',1)\n",
    "#train_df = train_df.drop('Condition1',1)\n",
    "#train_df = train_df.drop('Condition2',1)\n",
    "#train_df = train_df.drop('RoofMatl',1)\n",
    "#train_df = train_df.drop('Heating',1)\n",
    "train_df = train_df.drop('PoolQC',1)\n",
    "#train_df = train_df.drop('BsmtFinSF1',1)\n",
    "#train_df = train_df.drop('MiscVal',1)\n",
    "train_df = train_df.drop('MiscFeature',1)##\n",
    "train_df = train_df.drop('Fence',1)\n",
    "train_df[\"GarageYrBlt\"].fillna(0,inplace = True)\n",
    "#train_df[\"Functional\"].fillna(\"Typ\",inplace = True)\n",
    "#train_df[\"KitchenQual\"].fillna(\"TA\",inplace = True)\n",
    "train_df[\"Utilities\"].fillna(\"None\",inplace = True)\n",
    "train_df[\"Exterior1st\"].fillna(\"None\",inplace = True)\n",
    "train_df[\"Exterior2nd\"].fillna(\"None\",inplace = True)\n",
    "train_df[\"FireplaceQu\"].fillna(\"None\",inplace = True)\n",
    "\n",
    "#test_df = test_df.drop('Street',1)\n",
    "test_df = test_df.drop('Alley',1)\n",
    "#test_df = test_df.drop('LandContour',1)\n",
    "#test_df = test_df.drop('LandSlope',1)\n",
    "#test_df = test_df.drop('Condition1',1)\n",
    "#test_df = test_df.drop('Condition2',1)\n",
    "#test_df = test_df.drop('RoofMatl',1)\n",
    "#test_df = test_df.drop('Heating',1)\n",
    "test_df = test_df.drop('PoolQC',1)\n",
    "#test_df = test_df.drop('BsmtFinSF1',1)\n",
    "#test_df = test_df.drop('MiscVal',1)\n",
    "test_df = test_df.drop('MiscFeature',1) ##\n",
    "test_df = test_df.drop('Fence',1)\n",
    "test_df[\"GarageYrBlt\"].fillna(0,inplace = True)\n",
    "#test_df[\"Functional\"].fillna(\"Typ\",inplace = True)\n",
    "#test_df[\"KitchenQual\"].fillna(\"TA\",inplace = True)\n",
    "test_df[\"Utilities\"].fillna(\"None\",inplace = True)\n",
    "test_df[\"Exterior1st\"].fillna(\"None\",inplace = True)\n",
    "test_df[\"Exterior2nd\"].fillna(\"None\",inplace = True)\n",
    "test_df[\"FireplaceQu\"].fillna(\"None\",inplace = True)\n",
    "\n",
    "\n",
    "test_df = test_df.fillna(value=0)\n",
    "train_df = train_df.fillna(value=0)\n",
    "\n",
    "#y_train = np.log1p(train_df.pop('SalePrice')).values\n",
    "#X_train = train_df \n",
    "\n",
    "y_train = train_df[\"SalePrice\"].values #轉成np\n",
    "t = y_train\n",
    "X_train = train_df = train_df.drop('SalePrice', 1)\n",
    "\n",
    "for col_name in X_train.columns:\n",
    "    if(X_train[col_name].dtype == 'object'):\n",
    "        X_train[col_name]= X_train[col_name].astype('category')\n",
    "        X_train[col_name] = X_train[col_name].cat.codes\n",
    "        \n",
    "for col_name in test_df.columns:\n",
    "    if(test_df[col_name].dtype == 'object'):\n",
    "        test_df[col_name]= test_df[col_name].astype('category')\n",
    "        test_df[col_name] = test_df[col_name].cat.codes\n",
    "X_test = test_df.values\n",
    "X_train = X_train.values        "
   ]
  },
  {
   "cell_type": "code",
   "execution_count": null,
   "metadata": {},
   "outputs": [],
   "source": []
  },
  {
   "cell_type": "code",
   "execution_count": 347,
   "metadata": {},
   "outputs": [
    {
     "name": "stderr",
     "output_type": "stream",
     "text": [
      "C:\\Users\\wei\\Anaconda3\\lib\\site-packages\\sklearn\\utils\\validation.py:595: DataConversionWarning: Data with input dtype int64 was converted to float64 by StandardScaler.\n",
      "  warnings.warn(msg, DataConversionWarning)\n",
      "C:\\Users\\wei\\Anaconda3\\lib\\site-packages\\sklearn\\utils\\validation.py:595: DataConversionWarning: Data with input dtype int64 was converted to float64 by StandardScaler.\n",
      "  warnings.warn(msg, DataConversionWarning)\n"
     ]
    }
   ],
   "source": [
    "  \n",
    "y_train = y_train.reshape(1460,1)\n",
    "\n",
    "SC_X = StandardScaler()\n",
    "SC_y = StandardScaler()\n",
    "\n",
    "X_train = SC_X.fit_transform(X_train)\n",
    "y_train = SC_y.fit_transform(y_train)\n",
    "X_test = SC_X.transform(X_test) \n",
    "\n",
    "pca = PCA() \n",
    "pca.fit(X_train)\n",
    "X_train = pca.transform(X_train)  \n",
    "X_test = pca.transform(X_test) \n",
    "\n",
    "for i in range (len(X_train)):\n",
    "    X_train[i][0] = 1\n",
    "for i in range (len(X_test)):\n",
    "    X_test[i][0] = 1"
   ]
  },
  {
   "cell_type": "code",
   "execution_count": 348,
   "metadata": {},
   "outputs": [
    {
     "data": {
      "text/plain": [
       "array([134453.6307912 , 141393.29093661, 117431.62723846, ...,\n",
       "       131484.72966303, 156179.0195097 , 145114.77662314])"
      ]
     },
     "execution_count": 348,
     "metadata": {},
     "output_type": "execute_result"
    }
   ],
   "source": [
    "theta_best = np.linalg.inv(X_train.T.dot(X_train)).dot(X_train.T).dot(y_train)\n",
    "y_predict = X_test.dot(theta_best)\n",
    "y_predict = y_predict.flatten()\n",
    "y_predict\n",
    "\n",
    "SC_y.inverse_transform((y_predict))"
   ]
  },
  {
   "cell_type": "code",
   "execution_count": 349,
   "metadata": {},
   "outputs": [],
   "source": [
    "ANS = SC_y.inverse_transform((y_predict))"
   ]
  },
  {
   "cell_type": "code",
   "execution_count": 350,
   "metadata": {},
   "outputs": [],
   "source": [
    "Id = np.zeros(len(X_test))\n",
    "\n",
    "for i in range(len(X_test)):\n",
    "    Id[i]=i+1461\n",
    "Id = Id.astype(np.int32)\n",
    "\n",
    "\n",
    "f = open(\"submission.csv\", \"w\")\n",
    "f.write(\"{},{}\\n\".format(\"Id\", \"SalePrice\"))\n",
    "for x in zip(Id, ANS):\n",
    "    f.write(\"{},{}\\n\".format(x[0], x[1]))\n",
    "f.close()\n"
   ]
  },
  {
   "cell_type": "code",
   "execution_count": null,
   "metadata": {},
   "outputs": [],
   "source": []
  }
 ],
 "metadata": {
  "kernelspec": {
   "display_name": "Python 3",
   "language": "python",
   "name": "python3"
  },
  "language_info": {
   "codemirror_mode": {
    "name": "ipython",
    "version": 3
   },
   "file_extension": ".py",
   "mimetype": "text/x-python",
   "name": "python",
   "nbconvert_exporter": "python",
   "pygments_lexer": "ipython3",
   "version": "3.7.3"
  }
 },
 "nbformat": 4,
 "nbformat_minor": 2
}
