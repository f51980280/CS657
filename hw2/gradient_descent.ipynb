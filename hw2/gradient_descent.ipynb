{
 "cells": [
  {
   "cell_type": "code",
   "execution_count": 9,
   "metadata": {},
   "outputs": [],
   "source": [
    "def computeCost(X, y, theta):\n",
    "    m = size(y);\n",
    "    return (1.0 / (2.0 * m)) * sum(power(X * theta - y, 2));"
   ]
  },
  {
   "cell_type": "code",
   "execution_count": 231,
   "metadata": {},
   "outputs": [],
   "source": [
    "def gradient_Descent(X, y, theta, alpha, num_iters):\n",
    "    m = size(y)\n",
    "    n = size(theta)\n",
    "    tmp = theta\n",
    "    theta.reshape(n,1)\n",
    "    y_pred = np.dot(X,theta)\n",
    "\n",
    "    for i in range(num_iters):\n",
    "        for j in range(n):\n",
    "            tmp[j] = tmp[j] - alpha * (1/m)*sum((y_pred - y)*X[:,j])\n",
    "        y_pred = np.dot(X,theta)\n",
    "        cost =  (1.0 / (2.0 * m)) * sum(power(y_pred-y, 2))\n",
    "        SSE = sum(1/2*(power(y_pred-y, 2)))\n",
    "        print (\"iteration {}, theta {}, cost {}, SSE {}\".format(i,theta,cost,SSE))\n",
    "    \n",
    "    return theta   "
   ]
  },
  {
   "cell_type": "code",
   "execution_count": 237,
   "metadata": {},
   "outputs": [
    {
     "name": "stdout",
     "output_type": "stream",
     "text": [
      "iteration 0, theta [0.446715  0.7484688], cost 0.06571194272420258, SSE 0.6571194272420258\n",
      "iteration 1, theta [0.4434698 0.746957 ], cost 0.06443808482450518, SSE 0.6443808482450517\n",
      "iteration 2, theta [0.44026392 0.74546436], cost 0.06319515639706472, SSE 0.6319515639706471\n",
      "iteration 3, theta [0.43709687 0.74399064], cost 0.061982406237534926, SSE 0.6198240623753493\n",
      "iteration 4, theta [0.43396819 0.74253562], cost 0.060799101386890556, SSE 0.6079910138689055\n",
      "iteration 5, theta [0.43087739 0.74109907], cost 0.05964452668828301, SSE 0.5964452668828301\n",
      "iteration 6, theta [0.42782403 0.73968076], cost 0.058517984354658915, SSE 0.5851798435465891\n",
      "iteration 7, theta [0.42480764 0.73828046], cost 0.057418793546880446, SSE 0.5741879354688044\n",
      "iteration 8, theta [0.42182777 0.73689796], cost 0.05634628996209237, SSE 0.5634628996209237\n",
      "iteration 9, theta [0.41888397 0.73553303], cost 0.05529982543208685, SSE 0.5529982543208685\n",
      "iteration 10, theta [0.41597581 0.73418547], cost 0.05427876753142324, SSE 0.5427876753142323\n",
      "iteration 11, theta [0.41310285 0.73285506], cost 0.053282499195065815, SSE 0.5328249919506581\n",
      "iteration 12, theta [0.41026466 0.73154158], cost 0.05231041834530852, SSE 0.5231041834530852\n",
      "iteration 13, theta [0.40746082 0.73024484], cost 0.05136193752776094, SSE 0.5136193752776094\n",
      "iteration 14, theta [0.4046909  0.72896463], cost 0.05043648355617535, SSE 0.5043648355617535\n",
      "iteration 15, theta [0.40195449 0.72770074], cost 0.04953349716590055, SSE 0.49533497165900553\n",
      "iteration 16, theta [0.39925118 0.72645298], cost 0.048652432675752325, SSE 0.4865243267575232\n",
      "iteration 17, theta [0.39658057 0.72522114], cost 0.0477927576580967, SSE 0.47792757658096696\n",
      "iteration 18, theta [0.39394226 0.72400504], cost 0.046953952616946126, SSE 0.46953952616946126\n",
      "iteration 19, theta [0.39133586 0.72280447], cost 0.04613551067387407, SSE 0.4613551067387407\n",
      "iteration 20, theta [0.38876097 0.72161926], cost 0.04533693726155827, SSE 0.4533693726155827\n",
      "iteration 21, theta [0.38621721 0.72044921], cost 0.04455774982476714, SSE 0.44557749824767134\n",
      "iteration 22, theta [0.3837042  0.71929413], cost 0.04379747752860868, SSE 0.43797477528608675\n",
      "iteration 23, theta [0.38122156 0.71815384], cost 0.04305566097386557, SSE 0.4305566097386556\n",
      "iteration 24, theta [0.37876892 0.71702817], cost 0.04233185191924403, SSE 0.4233185191924403\n",
      "iteration 25, theta [0.37634593 0.71591693], cost 0.041625613010369, SSE 0.41625613010369\n",
      "iteration 26, theta [0.37395221 0.71481994], cost 0.04093651751536125, SSE 0.4093651751536125\n",
      "iteration 27, theta [0.3715874  0.71373703], cost 0.04026414906683701, SSE 0.4026414906683701\n",
      "iteration 28, theta [0.36925116 0.71266803], cost 0.039608101410173895, SSE 0.3960810141017389\n",
      "iteration 29, theta [0.36694314 0.71161277], cost 0.03896797815789092, SSE 0.3896797815789092\n",
      "iteration 30, theta [0.36466298 0.71057107], cost 0.0383433925499943, SSE 0.38343392549994293\n",
      "iteration 31, theta [0.36241036 0.70954278], cost 0.037733967220143765, SSE 0.3773396722014376\n",
      "iteration 32, theta [0.36018493 0.70852773], cost 0.03713933396749858, SSE 0.3713933396749858\n",
      "iteration 33, theta [0.35798637 0.70752576], cost 0.03655913353410466, SSE 0.36559133534104654\n",
      "iteration 34, theta [0.35581434 0.7065367 ], cost 0.03599301538768875, SSE 0.35993015387688754\n",
      "iteration 35, theta [0.35366852 0.70556039], cost 0.03544063750972815, SSE 0.3544063750972815\n",
      "iteration 36, theta [0.35154859 0.70459669], cost 0.0349016661886676, SSE 0.349016661886676\n",
      "iteration 37, theta [0.34945423 0.70364544], cost 0.034375775818158746, SSE 0.34375775818158744\n",
      "iteration 38, theta [0.34738514 0.70270648], cost 0.03386264870019994, SSE 0.3386264870019994\n",
      "iteration 39, theta [0.345341   0.70177967], cost 0.03336197485305741, SSE 0.3336197485305741\n",
      "iteration 40, theta [0.34332151 0.70086485], cost 0.03287345182385159, SSE 0.3287345182385159\n",
      "iteration 41, theta [0.34132637 0.69996187], cost 0.03239678450569546, SSE 0.3239678450569546\n",
      "iteration 42, theta [0.33935528 0.6990706 ], cost 0.03193168495927422, SSE 0.31931684959274215\n",
      "iteration 43, theta [0.33740795 0.69819089], cost 0.031477872238758475, SSE 0.31477872238758475\n",
      "iteration 44, theta [0.33548408 0.6973226 ], cost 0.031035072221945605, SSE 0.31035072221945603\n",
      "iteration 45, theta [0.33358339 0.69646558], cost 0.030603017444526783, SSE 0.3060301744452678\n",
      "iteration 46, theta [0.33170561 0.69561971], cost 0.03018144693837921, SSE 0.3018144693837921\n",
      "iteration 47, theta [0.32985044 0.69478483], cost 0.029770106073786065, SSE 0.2977010607378606\n",
      "iteration 48, theta [0.32801761 0.69396082], cost 0.02936874640548852, SSE 0.29368746405488516\n",
      "iteration 49, theta [0.32620685 0.69314755], cost 0.028977125522476905, SSE 0.28977125522476904\n",
      "iteration 50, theta [0.32441789 0.69234488], cost 0.028595006901430173, SSE 0.2859500690143017\n",
      "iteration 51, theta [0.32265047 0.69155269], cost 0.028222159763715074, SSE 0.2822215976371507\n",
      "iteration 52, theta [0.32090431 0.69077083], cost 0.027858358935858432, SSE 0.2785835893585843\n",
      "iteration 53, theta [0.31917917 0.6899992 ], cost 0.02750338471340848, SSE 0.2750338471340848\n",
      "iteration 54, theta [0.31747478 0.68923765], cost 0.027157022728102533, SSE 0.2715702272810253\n",
      "iteration 55, theta [0.3157909  0.68848608], cost 0.02681906381826107, SSE 0.2681906381826107\n",
      "iteration 56, theta [0.31412726 0.68774435], cost 0.02648930390232962, SSE 0.2648930390232962\n",
      "iteration 57, theta [0.31248363 0.68701235], cost 0.026167543855492126, SSE 0.26167543855492126\n",
      "iteration 58, theta [0.31085976 0.68628995], cost 0.025853589389281076, SSE 0.25853589389281073\n",
      "iteration 59, theta [0.3092554  0.68557704], cost 0.025547250934111743, SSE 0.2554725093411174\n",
      "iteration 60, theta [0.30767033 0.6848735 ], cost 0.025248343524669422, SSE 0.2524834352466942\n",
      "iteration 61, theta [0.3061043  0.68417922], cost 0.024956686688080352, SSE 0.2495668668808035\n",
      "iteration 62, theta [0.30455708 0.68349408], cost 0.024672104334798856, SSE 0.24672104334798856\n",
      "iteration 63, theta [0.30302845 0.68281798], cost 0.024394424652144506, SSE 0.24394424652144506\n",
      "iteration 64, theta [0.30151817 0.68215079], cost 0.02412348000042519, SSE 0.2412348000042519\n",
      "iteration 65, theta [0.30002602 0.68149242], cost 0.023859106811583045, SSE 0.23859106811583045\n",
      "iteration 66, theta [0.29855179 0.68084274], cost 0.023601145490302174, SSE 0.23601145490302172\n",
      "iteration 67, theta [0.29709525 0.68020167], cost 0.02334944031751824, SSE 0.23349440317518239\n",
      "iteration 68, theta [0.29565618 0.67956908], cost 0.023103839356271607, SSE 0.23103839356271605\n",
      "iteration 69, theta [0.29423437 0.67894488], cost 0.022864194359847146, SSE 0.22864194359847145\n",
      "iteration 70, theta [0.29282962 0.67832896], cost 0.022630360682145197, SSE 0.22630360682145195\n",
      "iteration 71, theta [0.29144171 0.67772122], cost 0.022402197190229386, SSE 0.22402197190229384\n",
      "iteration 72, theta [0.29007044 0.67712157], cost 0.02217956617899851, SSE 0.2217956617899851\n",
      "iteration 73, theta [0.2887156  0.67652989], cost 0.02196233328793093, SSE 0.21962333287930927\n",
      "iteration 74, theta [0.287377   0.67594611], cost 0.021750367419850987, SSE 0.21750367419850986\n",
      "iteration 75, theta [0.28605443 0.6753701 ], cost 0.02154354066166855, SSE 0.21543540661668548\n",
      "iteration 76, theta [0.28474771 0.67480179], cost 0.021341728207043553, SSE 0.2134172820704355\n",
      "iteration 77, theta [0.28345663 0.67424108], cost 0.021144808280928903, SSE 0.211448082809289\n",
      "iteration 78, theta [0.28218101 0.67368787], cost 0.020952662065946114, SSE 0.20952662065946112\n",
      "iteration 79, theta [0.28092066 0.67314207], cost 0.0207651736305491, SSE 0.207651736305491\n",
      "iteration 80, theta [0.27967539 0.67260359], cost 0.020582229858932783, SSE 0.20582229858932782\n",
      "iteration 81, theta [0.27844501 0.67207234], cost 0.02040372038264404, SSE 0.20403720382644042\n",
      "iteration 82, theta [0.27722935 0.67154824], cost 0.020229537513853736, SSE 0.20229537513853735\n",
      "iteration 83, theta [0.27602823 0.67103118], cost 0.020059576180249405, SSE 0.20059576180249403\n",
      "iteration 84, theta [0.27484147 0.6705211 ], cost 0.019893733861509312, SSE 0.1989373386150931\n",
      "iteration 85, theta [0.27366889 0.6700179 ], cost 0.01973191052731941, SSE 0.19731910527319407\n",
      "iteration 86, theta [0.27251032 0.66952149], cost 0.019574008576895768, SSE 0.19574008576895766\n",
      "iteration 87, theta [0.27136559 0.6690318 ], cost 0.01941993277997588, SSE 0.1941993277997588\n",
      "iteration 88, theta [0.27023453 0.66854874], cost 0.01926959021924317, SSE 0.19269590219243166\n",
      "iteration 89, theta [0.26911697 0.66807223], cost 0.019122890234149925, SSE 0.19122890234149922\n",
      "iteration 90, theta [0.26801275 0.66760219], cost 0.018979744366104594, SSE 0.18979744366104592\n",
      "iteration 91, theta [0.26692171 0.66713854], cost 0.018840066304990535, SSE 0.18840066304990533\n",
      "iteration 92, theta [0.26584368 0.6666812 ], cost 0.018703771836983532, SSE 0.18703771836983532\n",
      "iteration 93, theta [0.26477851 0.66623009], cost 0.018570778793636864, SSE 0.18570778793636863\n",
      "iteration 94, theta [0.26372604 0.66578514], cost 0.018441007002202952, SSE 0.1844100700220295\n",
      "iteration 95, theta [0.26268612 0.66534628], cost 0.018314378237161578, SSE 0.18314378237161577\n",
      "iteration 96, theta [0.26165859 0.66491341], cost 0.018190816172925443, SSE 0.18190816172925442\n",
      "iteration 97, theta [0.26064329 0.66448649], cost 0.018070246337694395, SSE 0.18070246337694393\n",
      "iteration 98, theta [0.25964009 0.66406542], cost 0.017952596068430443, SSE 0.17952596068430443\n",
      "iteration 99, theta [0.25864883 0.66365014], cost 0.01783779446692634, SSE 0.17837794466926338\n"
     ]
    },
    {
     "data": {
      "text/plain": [
       "array([0.25864883, 0.66365014])"
      ]
     },
     "execution_count": 237,
     "metadata": {},
     "output_type": "execute_result"
    }
   ],
   "source": [
    "X = np.array([[1,0],[1,0.22],[1,0.24],[1,0.33],[1,0.37],[1,0.44],[1,0.44],[1,0.57],[1,0.93],[1,1]])\n",
    "y = np.array([0,0.22,0.58,0.20,0.55,0.39,0.54,0.53,1,0.61])\n",
    "theta = np.array([0.45,0.75])\n",
    "theta.reshape(2,1)\n",
    "np.dot(X,theta)\n",
    "gradient_Descent(X, y, theta, 0.01, 100)"
   ]
  },
  {
   "cell_type": "code",
   "execution_count": 233,
   "metadata": {},
   "outputs": [
    {
     "data": {
      "text/plain": [
       "array([[1.  , 0.  ],\n",
       "       [1.  , 0.22],\n",
       "       [1.  , 0.24],\n",
       "       [1.  , 0.33],\n",
       "       [1.  , 0.37],\n",
       "       [1.  , 0.44],\n",
       "       [1.  , 0.44],\n",
       "       [1.  , 0.57],\n",
       "       [1.  , 0.93],\n",
       "       [1.  , 1.  ]])"
      ]
     },
     "execution_count": 233,
     "metadata": {},
     "output_type": "execute_result"
    }
   ],
   "source": [
    "X"
   ]
  },
  {
   "cell_type": "code",
   "execution_count": 234,
   "metadata": {},
   "outputs": [
    {
     "data": {
      "text/plain": [
       "array([0.  , 0.22, 0.58, 0.2 , 0.55, 0.39, 0.54, 0.53, 1.  , 0.61])"
      ]
     },
     "execution_count": 234,
     "metadata": {},
     "output_type": "execute_result"
    }
   ],
   "source": [
    "y"
   ]
  },
  {
   "cell_type": "code",
   "execution_count": 235,
   "metadata": {},
   "outputs": [
    {
     "data": {
      "text/plain": [
       "array([0, 0])"
      ]
     },
     "execution_count": 235,
     "metadata": {},
     "output_type": "execute_result"
    }
   ],
   "source": []
  },
  {
   "cell_type": "code",
   "execution_count": 238,
   "metadata": {},
   "outputs": [
    {
     "data": {
      "text/plain": [
       "array([0.45, 0.75])"
      ]
     },
     "execution_count": 238,
     "metadata": {},
     "output_type": "execute_result"
    }
   ],
   "source": [
    "theta = np.array([0.45,0.75])\n",
    "theta.reshape(2,1)\n",
    "theta"
   ]
  },
  {
   "cell_type": "code",
   "execution_count": null,
   "metadata": {},
   "outputs": [],
   "source": []
  }
 ],
 "metadata": {
  "kernelspec": {
   "display_name": "Python 3",
   "language": "python",
   "name": "python3"
  },
  "language_info": {
   "codemirror_mode": {
    "name": "ipython",
    "version": 3
   },
   "file_extension": ".py",
   "mimetype": "text/x-python",
   "name": "python",
   "nbconvert_exporter": "python",
   "pygments_lexer": "ipython3",
   "version": "3.7.3"
  }
 },
 "nbformat": 4,
 "nbformat_minor": 2
}
